{
 "cells": [
  {
   "cell_type": "markdown",
   "id": "b7bae5a9",
   "metadata": {},
   "source": [
    "Create a virtual environment (recommended)"
   ]
  },
  {
   "cell_type": "code",
   "execution_count": null,
   "id": "9bbb7a74",
   "metadata": {},
   "outputs": [
    {
     "ename": "",
     "evalue": "",
     "output_type": "error",
     "traceback": [
      "\u001b[1;31mRunning cells with 'hdb_analysis (Python 3.10.18)' requires the ipykernel package.\n",
      "\u001b[1;31m<a href='command:jupyter.createPythonEnvAndSelectController'>Create a Python Environment</a> with the required packages.\n",
      "\u001b[1;31mOr install 'ipykernel' using the command: 'conda install -n hdb_analysis ipykernel --update-deps --force-reinstall'"
     ]
    }
   ],
   "source": [
    "# Using conda (run these in a terminal, not in a Python cell)\n",
    "# !conda create -n hdb_analysis python=3.10\n",
    "# !conda activate hdb_analysis\n",
    "\n",
    "# If you want to run shell commands from a notebook, use ! at the start:\n",
    "# !conda create -n hdb_analysis python=3.10\n",
    "# Note: Activating environments in Jupyter is best done in a terminal, not in a notebook cell."
   ]
  },
  {
   "cell_type": "markdown",
   "id": "17ea3101",
   "metadata": {},
   "source": [
    "Install required packages\n",
    "Required Dependencies\n",
    "streamlit>=1.28.0 - Web application framework\n",
    "pandas>=1.5.0 - Data manipulation and analysis\n",
    "numpy>=1.21.0 - Numerical computing\n",
    "plotly>=5.10.0 - Interactive visualizations\n",
    "seaborn>=0.11.0 - Statistical data visualization\n",
    "matplotlib>=3.5.0 - Plotting library\n",
    "openpyxl>=3.0.0 - Excel file support"
   ]
  },
  {
   "cell_type": "code",
   "execution_count": 1,
   "id": "b5f08d81",
   "metadata": {},
   "outputs": [
    {
     "name": "stdout",
     "output_type": "stream",
     "text": [
      "Collecting streamlit>=1.28.0 (from -r requirements.txt (line 1))\n",
      "  Using cached streamlit-1.47.1-py3-none-any.whl.metadata (9.0 kB)\n",
      "Collecting pandas>=1.5.0 (from -r requirements.txt (line 2))\n",
      "  Using cached pandas-2.3.1-cp310-cp310-macosx_11_0_arm64.whl.metadata (91 kB)\n",
      "Collecting numpy>=1.21.0 (from -r requirements.txt (line 3))\n",
      "  Downloading numpy-2.2.6-cp310-cp310-macosx_14_0_arm64.whl.metadata (62 kB)\n",
      "Collecting plotly>=5.10.0 (from -r requirements.txt (line 4))\n",
      "  Downloading plotly-6.2.0-py3-none-any.whl.metadata (8.5 kB)\n",
      "Collecting seaborn>=0.11.0 (from -r requirements.txt (line 5))\n",
      "  Downloading seaborn-0.13.2-py3-none-any.whl.metadata (5.4 kB)\n",
      "Collecting matplotlib>=3.5.0 (from -r requirements.txt (line 6))\n",
      "  Downloading matplotlib-3.10.5-cp310-cp310-macosx_11_0_arm64.whl.metadata (11 kB)\n",
      "Collecting openpyxl>=3.0.0 (from -r requirements.txt (line 7))\n",
      "  Downloading openpyxl-3.1.5-py2.py3-none-any.whl.metadata (2.5 kB)\n",
      "Collecting altair<6,>=4.0 (from streamlit>=1.28.0->-r requirements.txt (line 1))\n",
      "  Using cached altair-5.5.0-py3-none-any.whl.metadata (11 kB)\n",
      "Collecting blinker<2,>=1.5.0 (from streamlit>=1.28.0->-r requirements.txt (line 1))\n",
      "  Using cached blinker-1.9.0-py3-none-any.whl.metadata (1.6 kB)\n",
      "Collecting cachetools<7,>=4.0 (from streamlit>=1.28.0->-r requirements.txt (line 1))\n",
      "  Using cached cachetools-6.1.0-py3-none-any.whl.metadata (5.4 kB)\n",
      "Collecting click<9,>=7.0 (from streamlit>=1.28.0->-r requirements.txt (line 1))\n",
      "  Using cached click-8.2.1-py3-none-any.whl.metadata (2.5 kB)\n",
      "Requirement already satisfied: packaging<26,>=20 in /Users/alexfoo/miniconda3/envs/hdb_analysis/lib/python3.10/site-packages (from streamlit>=1.28.0->-r requirements.txt (line 1)) (25.0)\n",
      "Collecting pillow<12,>=7.1.0 (from streamlit>=1.28.0->-r requirements.txt (line 1))\n",
      "  Downloading pillow-11.3.0-cp310-cp310-macosx_11_0_arm64.whl.metadata (9.0 kB)\n",
      "Collecting protobuf<7,>=3.20 (from streamlit>=1.28.0->-r requirements.txt (line 1))\n",
      "  Using cached protobuf-6.31.1-cp39-abi3-macosx_10_9_universal2.whl.metadata (593 bytes)\n",
      "Collecting pyarrow>=7.0 (from streamlit>=1.28.0->-r requirements.txt (line 1))\n",
      "  Downloading pyarrow-21.0.0-cp310-cp310-macosx_12_0_arm64.whl.metadata (3.3 kB)\n",
      "Collecting requests<3,>=2.27 (from streamlit>=1.28.0->-r requirements.txt (line 1))\n",
      "  Downloading requests-2.32.4-py3-none-any.whl.metadata (4.9 kB)\n",
      "Collecting tenacity<10,>=8.1.0 (from streamlit>=1.28.0->-r requirements.txt (line 1))\n",
      "  Using cached tenacity-9.1.2-py3-none-any.whl.metadata (1.2 kB)\n",
      "Collecting toml<2,>=0.10.1 (from streamlit>=1.28.0->-r requirements.txt (line 1))\n",
      "  Using cached toml-0.10.2-py2.py3-none-any.whl.metadata (7.1 kB)\n",
      "Requirement already satisfied: typing-extensions<5,>=4.4.0 in /Users/alexfoo/miniconda3/envs/hdb_analysis/lib/python3.10/site-packages (from streamlit>=1.28.0->-r requirements.txt (line 1)) (4.14.1)\n",
      "Collecting gitpython!=3.1.19,<4,>=3.0.7 (from streamlit>=1.28.0->-r requirements.txt (line 1))\n",
      "  Using cached gitpython-3.1.45-py3-none-any.whl.metadata (13 kB)\n",
      "Collecting pydeck<1,>=0.8.0b4 (from streamlit>=1.28.0->-r requirements.txt (line 1))\n",
      "  Using cached pydeck-0.9.1-py2.py3-none-any.whl.metadata (4.1 kB)\n",
      "Requirement already satisfied: tornado!=6.5.0,<7,>=6.0.3 in /Users/alexfoo/miniconda3/envs/hdb_analysis/lib/python3.10/site-packages (from streamlit>=1.28.0->-r requirements.txt (line 1)) (6.5.1)\n",
      "Requirement already satisfied: python-dateutil>=2.8.2 in /Users/alexfoo/miniconda3/envs/hdb_analysis/lib/python3.10/site-packages (from pandas>=1.5.0->-r requirements.txt (line 2)) (2.9.0.post0)\n",
      "Collecting pytz>=2020.1 (from pandas>=1.5.0->-r requirements.txt (line 2))\n",
      "  Using cached pytz-2025.2-py2.py3-none-any.whl.metadata (22 kB)\n",
      "Collecting tzdata>=2022.7 (from pandas>=1.5.0->-r requirements.txt (line 2))\n",
      "  Using cached tzdata-2025.2-py2.py3-none-any.whl.metadata (1.4 kB)\n",
      "Collecting jinja2 (from altair<6,>=4.0->streamlit>=1.28.0->-r requirements.txt (line 1))\n",
      "  Using cached jinja2-3.1.6-py3-none-any.whl.metadata (2.9 kB)\n",
      "Collecting jsonschema>=3.0 (from altair<6,>=4.0->streamlit>=1.28.0->-r requirements.txt (line 1))\n",
      "  Using cached jsonschema-4.25.0-py3-none-any.whl.metadata (7.7 kB)\n",
      "Collecting narwhals>=1.14.2 (from altair<6,>=4.0->streamlit>=1.28.0->-r requirements.txt (line 1))\n",
      "  Using cached narwhals-2.0.1-py3-none-any.whl.metadata (11 kB)\n",
      "Collecting gitdb<5,>=4.0.1 (from gitpython!=3.1.19,<4,>=3.0.7->streamlit>=1.28.0->-r requirements.txt (line 1))\n",
      "  Using cached gitdb-4.0.12-py3-none-any.whl.metadata (1.2 kB)\n",
      "Collecting smmap<6,>=3.0.1 (from gitdb<5,>=4.0.1->gitpython!=3.1.19,<4,>=3.0.7->streamlit>=1.28.0->-r requirements.txt (line 1))\n",
      "  Using cached smmap-5.0.2-py3-none-any.whl.metadata (4.3 kB)\n",
      "Collecting charset_normalizer<4,>=2 (from requests<3,>=2.27->streamlit>=1.28.0->-r requirements.txt (line 1))\n",
      "  Downloading charset_normalizer-3.4.2-cp310-cp310-macosx_10_9_universal2.whl.metadata (35 kB)\n",
      "Collecting idna<4,>=2.5 (from requests<3,>=2.27->streamlit>=1.28.0->-r requirements.txt (line 1))\n",
      "  Downloading idna-3.10-py3-none-any.whl.metadata (10 kB)\n",
      "Collecting urllib3<3,>=1.21.1 (from requests<3,>=2.27->streamlit>=1.28.0->-r requirements.txt (line 1))\n",
      "  Downloading urllib3-2.5.0-py3-none-any.whl.metadata (6.5 kB)\n",
      "Collecting certifi>=2017.4.17 (from requests<3,>=2.27->streamlit>=1.28.0->-r requirements.txt (line 1))\n",
      "  Downloading certifi-2025.8.3-py3-none-any.whl.metadata (2.4 kB)\n",
      "Collecting contourpy>=1.0.1 (from matplotlib>=3.5.0->-r requirements.txt (line 6))\n",
      "  Downloading contourpy-1.3.2-cp310-cp310-macosx_11_0_arm64.whl.metadata (5.5 kB)\n",
      "Collecting cycler>=0.10 (from matplotlib>=3.5.0->-r requirements.txt (line 6))\n",
      "  Downloading cycler-0.12.1-py3-none-any.whl.metadata (3.8 kB)\n",
      "Collecting fonttools>=4.22.0 (from matplotlib>=3.5.0->-r requirements.txt (line 6))\n",
      "  Downloading fonttools-4.59.0-cp310-cp310-macosx_10_9_universal2.whl.metadata (107 kB)\n",
      "Collecting kiwisolver>=1.3.1 (from matplotlib>=3.5.0->-r requirements.txt (line 6))\n",
      "  Downloading kiwisolver-1.4.8-cp310-cp310-macosx_11_0_arm64.whl.metadata (6.2 kB)\n",
      "Collecting pyparsing>=2.3.1 (from matplotlib>=3.5.0->-r requirements.txt (line 6))\n",
      "  Downloading pyparsing-3.2.3-py3-none-any.whl.metadata (5.0 kB)\n",
      "Collecting et-xmlfile (from openpyxl>=3.0.0->-r requirements.txt (line 7))\n",
      "  Downloading et_xmlfile-2.0.0-py3-none-any.whl.metadata (2.7 kB)\n",
      "Collecting MarkupSafe>=2.0 (from jinja2->altair<6,>=4.0->streamlit>=1.28.0->-r requirements.txt (line 1))\n",
      "  Downloading MarkupSafe-3.0.2-cp310-cp310-macosx_11_0_arm64.whl.metadata (4.0 kB)\n",
      "Collecting attrs>=22.2.0 (from jsonschema>=3.0->altair<6,>=4.0->streamlit>=1.28.0->-r requirements.txt (line 1))\n",
      "  Using cached attrs-25.3.0-py3-none-any.whl.metadata (10 kB)\n",
      "Collecting jsonschema-specifications>=2023.03.6 (from jsonschema>=3.0->altair<6,>=4.0->streamlit>=1.28.0->-r requirements.txt (line 1))\n",
      "  Using cached jsonschema_specifications-2025.4.1-py3-none-any.whl.metadata (2.9 kB)\n",
      "Collecting referencing>=0.28.4 (from jsonschema>=3.0->altair<6,>=4.0->streamlit>=1.28.0->-r requirements.txt (line 1))\n",
      "  Using cached referencing-0.36.2-py3-none-any.whl.metadata (2.8 kB)\n",
      "Collecting rpds-py>=0.7.1 (from jsonschema>=3.0->altair<6,>=4.0->streamlit>=1.28.0->-r requirements.txt (line 1))\n",
      "  Downloading rpds_py-0.26.0-cp310-cp310-macosx_11_0_arm64.whl.metadata (4.2 kB)\n",
      "Requirement already satisfied: six>=1.5 in /Users/alexfoo/miniconda3/envs/hdb_analysis/lib/python3.10/site-packages (from python-dateutil>=2.8.2->pandas>=1.5.0->-r requirements.txt (line 2)) (1.17.0)\n",
      "Using cached streamlit-1.47.1-py3-none-any.whl (9.9 MB)\n",
      "Using cached pandas-2.3.1-cp310-cp310-macosx_11_0_arm64.whl (10.8 MB)\n",
      "Downloading numpy-2.2.6-cp310-cp310-macosx_14_0_arm64.whl (5.3 MB)\n",
      "\u001b[2K   \u001b[90m━━━━━━━━━━━━━━━━━━━━━━━━━━━━━━━━━━━━━━━━\u001b[0m \u001b[32m5.3/5.3 MB\u001b[0m \u001b[31m70.0 MB/s\u001b[0m eta \u001b[36m0:00:00\u001b[0m\n",
      "\u001b[?25hUsing cached altair-5.5.0-py3-none-any.whl (731 kB)\n",
      "Using cached blinker-1.9.0-py3-none-any.whl (8.5 kB)\n",
      "Using cached cachetools-6.1.0-py3-none-any.whl (11 kB)\n",
      "Using cached click-8.2.1-py3-none-any.whl (102 kB)\n",
      "Using cached gitpython-3.1.45-py3-none-any.whl (208 kB)\n",
      "Using cached gitdb-4.0.12-py3-none-any.whl (62 kB)\n",
      "Downloading pillow-11.3.0-cp310-cp310-macosx_11_0_arm64.whl (4.7 MB)\n",
      "\u001b[2K   \u001b[90m━━━━━━━━━━━━━━━━━━━━━━━━━━━━━━━━━━━━━━━━\u001b[0m \u001b[32m4.7/4.7 MB\u001b[0m \u001b[31m55.4 MB/s\u001b[0m eta \u001b[36m0:00:00\u001b[0m\n",
      "\u001b[?25hUsing cached protobuf-6.31.1-cp39-abi3-macosx_10_9_universal2.whl (425 kB)\n",
      "Using cached pydeck-0.9.1-py2.py3-none-any.whl (6.9 MB)\n",
      "Downloading requests-2.32.4-py3-none-any.whl (64 kB)\n",
      "Downloading charset_normalizer-3.4.2-cp310-cp310-macosx_10_9_universal2.whl (201 kB)\n",
      "Downloading idna-3.10-py3-none-any.whl (70 kB)\n",
      "Using cached smmap-5.0.2-py3-none-any.whl (24 kB)\n",
      "Using cached tenacity-9.1.2-py3-none-any.whl (28 kB)\n",
      "Using cached toml-0.10.2-py2.py3-none-any.whl (16 kB)\n",
      "Downloading urllib3-2.5.0-py3-none-any.whl (129 kB)\n",
      "Downloading plotly-6.2.0-py3-none-any.whl (9.6 MB)\n",
      "\u001b[2K   \u001b[90m━━━━━━━━━━━━━━━━━━━━━━━━━━━━━━━━━━━━━━━━\u001b[0m \u001b[32m9.6/9.6 MB\u001b[0m \u001b[31m76.4 MB/s\u001b[0m eta \u001b[36m0:00:00\u001b[0m\n",
      "\u001b[?25hDownloading seaborn-0.13.2-py3-none-any.whl (294 kB)\n",
      "Downloading matplotlib-3.10.5-cp310-cp310-macosx_11_0_arm64.whl (8.1 MB)\n",
      "\u001b[2K   \u001b[90m━━━━━━━━━━━━━━━━━━━━━━━━━━━━━━━━━━━━━━━━\u001b[0m \u001b[32m8.1/8.1 MB\u001b[0m \u001b[31m80.6 MB/s\u001b[0m eta \u001b[36m0:00:00\u001b[0m\n",
      "\u001b[?25hDownloading openpyxl-3.1.5-py2.py3-none-any.whl (250 kB)\n",
      "Downloading certifi-2025.8.3-py3-none-any.whl (161 kB)\n",
      "Downloading contourpy-1.3.2-cp310-cp310-macosx_11_0_arm64.whl (253 kB)\n",
      "Downloading cycler-0.12.1-py3-none-any.whl (8.3 kB)\n",
      "Downloading fonttools-4.59.0-cp310-cp310-macosx_10_9_universal2.whl (2.8 MB)\n",
      "\u001b[2K   \u001b[90m━━━━━━━━━━━━━━━━━━━━━━━━━━━━━━━━━━━━━━━━\u001b[0m \u001b[32m2.8/2.8 MB\u001b[0m \u001b[31m66.0 MB/s\u001b[0m eta \u001b[36m0:00:00\u001b[0m\n",
      "\u001b[?25hUsing cached jinja2-3.1.6-py3-none-any.whl (134 kB)\n",
      "Using cached jsonschema-4.25.0-py3-none-any.whl (89 kB)\n",
      "Using cached attrs-25.3.0-py3-none-any.whl (63 kB)\n",
      "Using cached jsonschema_specifications-2025.4.1-py3-none-any.whl (18 kB)\n",
      "Downloading kiwisolver-1.4.8-cp310-cp310-macosx_11_0_arm64.whl (65 kB)\n",
      "Downloading MarkupSafe-3.0.2-cp310-cp310-macosx_11_0_arm64.whl (12 kB)\n",
      "Using cached narwhals-2.0.1-py3-none-any.whl (385 kB)\n",
      "Downloading pyarrow-21.0.0-cp310-cp310-macosx_12_0_arm64.whl (31.2 MB)\n",
      "\u001b[2K   \u001b[90m━━━━━━━━━━━━━━━━━━━━━━━━━━━━━━━━━━━━━━━━\u001b[0m \u001b[32m31.2/31.2 MB\u001b[0m \u001b[31m84.0 MB/s\u001b[0m eta \u001b[36m0:00:00\u001b[0ma \u001b[36m0:00:01\u001b[0m\n",
      "\u001b[?25hDownloading pyparsing-3.2.3-py3-none-any.whl (111 kB)\n",
      "Using cached pytz-2025.2-py2.py3-none-any.whl (509 kB)\n",
      "Using cached referencing-0.36.2-py3-none-any.whl (26 kB)\n",
      "Downloading rpds_py-0.26.0-cp310-cp310-macosx_11_0_arm64.whl (357 kB)\n",
      "Using cached tzdata-2025.2-py2.py3-none-any.whl (347 kB)\n",
      "Downloading et_xmlfile-2.0.0-py3-none-any.whl (18 kB)\n",
      "Installing collected packages: pytz, urllib3, tzdata, toml, tenacity, smmap, rpds-py, pyparsing, pyarrow, protobuf, pillow, numpy, narwhals, MarkupSafe, kiwisolver, idna, fonttools, et-xmlfile, cycler, click, charset_normalizer, certifi, cachetools, blinker, attrs, requests, referencing, plotly, pandas, openpyxl, jinja2, gitdb, contourpy, pydeck, matplotlib, jsonschema-specifications, gitpython, seaborn, jsonschema, altair, streamlit\n",
      "\u001b[2K   \u001b[90m━━━━━━━━━━━━━━━━━━━━━━━━━━━━━━━━━━━━━━━━\u001b[0m \u001b[32m41/41\u001b[0m [streamlit]treamlit]ltair]]ib]\n",
      "\u001b[1A\u001b[2KSuccessfully installed MarkupSafe-3.0.2 altair-5.5.0 attrs-25.3.0 blinker-1.9.0 cachetools-6.1.0 certifi-2025.8.3 charset_normalizer-3.4.2 click-8.2.1 contourpy-1.3.2 cycler-0.12.1 et-xmlfile-2.0.0 fonttools-4.59.0 gitdb-4.0.12 gitpython-3.1.45 idna-3.10 jinja2-3.1.6 jsonschema-4.25.0 jsonschema-specifications-2025.4.1 kiwisolver-1.4.8 matplotlib-3.10.5 narwhals-2.0.1 numpy-2.2.6 openpyxl-3.1.5 pandas-2.3.1 pillow-11.3.0 plotly-6.2.0 protobuf-6.31.1 pyarrow-21.0.0 pydeck-0.9.1 pyparsing-3.2.3 pytz-2025.2 referencing-0.36.2 requests-2.32.4 rpds-py-0.26.0 seaborn-0.13.2 smmap-5.0.2 streamlit-1.47.1 tenacity-9.1.2 toml-0.10.2 tzdata-2025.2 urllib3-2.5.0\n",
      "Note: you may need to restart the kernel to use updated packages.\n"
     ]
    }
   ],
   "source": [
    "pip install -r requirements.txt"
   ]
  },
  {
   "cell_type": "markdown",
   "id": "3b2579e9",
   "metadata": {},
   "source": [
    "Running the Streamlit App\n",
    "The app will automatically open in your default browser at http://localhost:8501\n",
    "sample_hdb/\n",
    "├── README.md                 # This file\n",
    "├── Data_Dictionary.md        # Complete feature descriptions (Renamed from README.md)\n",
    "├── instruction.md           # EDA guidelines and methodology (Not used to vibe-code this app)\n",
    "├── notes.md                 # Problem statement and research questions\n",
    "├── requirements.txt         # Python dependencies\n",
    "├── run_app.bat             # Windows batch file to run Streamlit\n",
    "├── STREAMLIT_README.md     # Streamlit app specific documentation\n",
    "├── streamlit_app.py        # Main Streamlit application\n",
    "├── streamlit_app_clean.py  # Clean version of Streamlit app\n",
    "└── datasets/\n",
    "    ├── train.csv           # Training dataset for analysis\n",
    "    └── test.csv            # Test dataset"
   ]
  },
  {
   "cell_type": "code",
   "execution_count": null,
   "id": "15380130",
   "metadata": {},
   "outputs": [
    {
     "name": "stdout",
     "output_type": "stream",
     "text": [
      "zsh:1: 0.12.0 not found\n",
      "Note: you may need to restart the kernel to use updated packages.\n"
     ]
    }
   ],
   "source": [
    "pip install folium"
   ]
  },
  {
   "cell_type": "code",
   "execution_count": null,
   "id": "260cd032",
   "metadata": {},
   "outputs": [],
   "source": [
    "pip install streamlit-folium"
   ]
  },
  {
   "cell_type": "code",
   "execution_count": 4,
   "id": "f8fc4aa6",
   "metadata": {},
   "outputs": [
    {
     "name": "stdout",
     "output_type": "stream",
     "text": [
      "\n",
      "      👋 \u001b[1mWelcome to Streamlit!\u001b[0m\n",
      "\n",
      "      If you'd like to receive helpful onboarding emails, news, offers, promotions,\n",
      "      and the occasional swag, please enter your email address below. Otherwise,\n",
      "      leave this field blank.\n",
      "\n",
      "      \u001b[34mEmail: \u001b[0m ^C\n"
     ]
    }
   ],
   "source": [
    "!streamlit run streamlit_app.py"
   ]
  },
  {
   "cell_type": "code",
   "execution_count": 11,
   "id": "1314463d",
   "metadata": {},
   "outputs": [
    {
     "name": "stdout",
     "output_type": "stream",
     "text": [
      "\u001b[0m\n",
      "\u001b[34m\u001b[1m  You can now view your Streamlit app in your browser.\u001b[0m\n",
      "\u001b[0m\n",
      "\u001b[34m  Local URL: \u001b[0m\u001b[1mhttp://localhost:8501\u001b[0m\n",
      "\u001b[34m  Network URL: \u001b[0m\u001b[1mhttp://192.168.1.57:8501\u001b[0m\n",
      "\u001b[0m\n",
      "\u001b[34m\u001b[1m  For better performance, install the Watchdog module:\u001b[0m\n",
      "\n",
      "  $ xcode-select --install\n",
      "  $ pip install watchdog\n",
      "            \u001b[0m\n",
      "^C\n"
     ]
    }
   ],
   "source": [
    "!streamlit run streamlit_geomap.py"
   ]
  }
 ],
 "metadata": {
  "kernelspec": {
   "display_name": "hdb_analysis",
   "language": "python",
   "name": "python3"
  },
  "language_info": {
   "codemirror_mode": {
    "name": "ipython",
    "version": 3
   },
   "file_extension": ".py",
   "mimetype": "text/x-python",
   "name": "python",
   "nbconvert_exporter": "python",
   "pygments_lexer": "ipython3",
   "version": "3.10.18"
  }
 },
 "nbformat": 4,
 "nbformat_minor": 5
}
